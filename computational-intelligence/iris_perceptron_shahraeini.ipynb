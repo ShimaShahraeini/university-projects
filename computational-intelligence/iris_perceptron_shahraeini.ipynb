{
  "nbformat": 4,
  "nbformat_minor": 0,
  "metadata": {
    "colab": {
      "provenance": []
    },
    "kernelspec": {
      "name": "python3",
      "display_name": "Python 3"
    },
    "language_info": {
      "name": "python"
    }
  },
  "cells": [
    {
      "cell_type": "code",
      "execution_count": null,
      "metadata": {
        "id": "71LT-MNIJitr"
      },
      "outputs": [],
      "source": [
        "import numpy as np\n",
        "from sklearn.datasets import load_iris\n",
        "from sklearn.model_selection import train_test_split\n",
        "from tensorflow.keras.models import Sequential\n",
        "from tensorflow.keras.layers import Flatten, Dense\n",
        "import matplotlib.pyplot as plt"
      ]
    },
    {
      "cell_type": "code",
      "source": [
        "iris = load_iris()"
      ],
      "metadata": {
        "id": "zcivKfPXJj4O"
      },
      "execution_count": null,
      "outputs": []
    },
    {
      "cell_type": "code",
      "source": [
        "X_train, X_test, y_train, y_test = train_test_split(iris.data, iris.target, test_size=0.2, random_state=8)"
      ],
      "metadata": {
        "id": "TGcNv4mHJ7Xt"
      },
      "execution_count": null,
      "outputs": []
    },
    {
      "cell_type": "code",
      "source": [
        "model = Sequential()\n",
        "\n",
        "model.add(Dense(512, activation='sigmoid'))\n",
        "model.add(Dense(256, activation='sigmoid'))\n",
        "model.add(Dense(128, activation='sigmoid'))\n",
        "model.add(Dense(64, activation='sigmoid'))\n",
        "model.add(Dense(3, activation='sigmoid'))"
      ],
      "metadata": {
        "id": "zn4RDrP-KttU"
      },
      "execution_count": null,
      "outputs": []
    },
    {
      "cell_type": "code",
      "source": [
        "model.compile(optimizer='adam', loss='sparse_categorical_crossentropy', metrics=['accuracy'])"
      ],
      "metadata": {
        "id": "3L6CIW7KV2Fc"
      },
      "execution_count": null,
      "outputs": []
    },
    {
      "cell_type": "code",
      "source": [
        "hist = model.fit(X_train, y_train, epochs=100, batch_size=2000, validation_split=0.3)"
      ],
      "metadata": {
        "colab": {
          "base_uri": "https://localhost:8080/"
        },
        "id": "DvhGDPIcWBeo",
        "outputId": "073373a7-ac57-49aa-f39e-d5d87597a974"
      },
      "execution_count": null,
      "outputs": [
        {
          "output_type": "stream",
          "name": "stdout",
          "text": [
            "Epoch 1/100\n",
            "1/1 [==============================] - 1s 1s/step - loss: 1.1660 - accuracy: 0.3929 - val_loss: 1.2499 - val_accuracy: 0.1944\n",
            "Epoch 2/100\n",
            "1/1 [==============================] - 0s 69ms/step - loss: 1.1084 - accuracy: 0.3929 - val_loss: 1.1517 - val_accuracy: 0.1944\n",
            "Epoch 3/100\n",
            "1/1 [==============================] - 0s 53ms/step - loss: 1.0876 - accuracy: 0.3929 - val_loss: 1.1071 - val_accuracy: 0.1944\n",
            "Epoch 4/100\n",
            "1/1 [==============================] - 0s 44ms/step - loss: 1.0968 - accuracy: 0.3929 - val_loss: 1.0988 - val_accuracy: 0.4444\n",
            "Epoch 5/100\n",
            "1/1 [==============================] - 0s 60ms/step - loss: 1.1082 - accuracy: 0.2738 - val_loss: 1.1025 - val_accuracy: 0.4444\n",
            "Epoch 6/100\n",
            "1/1 [==============================] - 0s 60ms/step - loss: 1.1070 - accuracy: 0.2738 - val_loss: 1.1115 - val_accuracy: 0.1944\n",
            "Epoch 7/100\n",
            "1/1 [==============================] - 0s 62ms/step - loss: 1.0979 - accuracy: 0.3929 - val_loss: 1.1257 - val_accuracy: 0.1944\n",
            "Epoch 8/100\n",
            "1/1 [==============================] - 0s 46ms/step - loss: 1.0883 - accuracy: 0.3929 - val_loss: 1.1438 - val_accuracy: 0.1944\n",
            "Epoch 9/100\n",
            "1/1 [==============================] - 0s 64ms/step - loss: 1.0823 - accuracy: 0.3929 - val_loss: 1.1626 - val_accuracy: 0.1944\n",
            "Epoch 10/100\n",
            "1/1 [==============================] - 0s 65ms/step - loss: 1.0807 - accuracy: 0.3929 - val_loss: 1.1783 - val_accuracy: 0.1944\n",
            "Epoch 11/100\n",
            "1/1 [==============================] - 0s 62ms/step - loss: 1.0820 - accuracy: 0.3929 - val_loss: 1.1883 - val_accuracy: 0.1944\n",
            "Epoch 12/100\n",
            "1/1 [==============================] - 0s 70ms/step - loss: 1.0838 - accuracy: 0.3929 - val_loss: 1.1914 - val_accuracy: 0.1944\n",
            "Epoch 13/100\n",
            "1/1 [==============================] - 0s 58ms/step - loss: 1.0841 - accuracy: 0.3929 - val_loss: 1.1878 - val_accuracy: 0.1944\n",
            "Epoch 14/100\n",
            "1/1 [==============================] - 0s 53ms/step - loss: 1.0821 - accuracy: 0.3929 - val_loss: 1.1788 - val_accuracy: 0.1944\n",
            "Epoch 15/100\n",
            "1/1 [==============================] - 0s 71ms/step - loss: 1.0780 - accuracy: 0.3929 - val_loss: 1.1662 - val_accuracy: 0.1944\n",
            "Epoch 16/100\n",
            "1/1 [==============================] - 0s 52ms/step - loss: 1.0730 - accuracy: 0.3929 - val_loss: 1.1520 - val_accuracy: 0.1944\n",
            "Epoch 17/100\n",
            "1/1 [==============================] - 0s 71ms/step - loss: 1.0681 - accuracy: 0.3929 - val_loss: 1.1378 - val_accuracy: 0.1944\n",
            "Epoch 18/100\n",
            "1/1 [==============================] - 0s 48ms/step - loss: 1.0639 - accuracy: 0.3929 - val_loss: 1.1247 - val_accuracy: 0.1944\n",
            "Epoch 19/100\n",
            "1/1 [==============================] - 0s 50ms/step - loss: 1.0605 - accuracy: 0.3929 - val_loss: 1.1135 - val_accuracy: 0.1944\n",
            "Epoch 20/100\n",
            "1/1 [==============================] - 0s 66ms/step - loss: 1.0575 - accuracy: 0.3929 - val_loss: 1.1046 - val_accuracy: 0.1944\n",
            "Epoch 21/100\n",
            "1/1 [==============================] - 0s 46ms/step - loss: 1.0539 - accuracy: 0.3929 - val_loss: 1.0980 - val_accuracy: 0.1944\n",
            "Epoch 22/100\n",
            "1/1 [==============================] - 0s 70ms/step - loss: 1.0489 - accuracy: 0.3929 - val_loss: 1.0936 - val_accuracy: 0.1944\n",
            "Epoch 23/100\n",
            "1/1 [==============================] - 0s 72ms/step - loss: 1.0423 - accuracy: 0.3929 - val_loss: 1.0910 - val_accuracy: 0.1944\n",
            "Epoch 24/100\n",
            "1/1 [==============================] - 0s 47ms/step - loss: 1.0340 - accuracy: 0.3929 - val_loss: 1.0893 - val_accuracy: 0.1944\n",
            "Epoch 25/100\n",
            "1/1 [==============================] - 0s 41ms/step - loss: 1.0245 - accuracy: 0.3929 - val_loss: 1.0874 - val_accuracy: 0.1944\n",
            "Epoch 26/100\n",
            "1/1 [==============================] - 0s 43ms/step - loss: 1.0139 - accuracy: 0.3929 - val_loss: 1.0838 - val_accuracy: 0.2222\n",
            "Epoch 27/100\n",
            "1/1 [==============================] - 0s 47ms/step - loss: 1.0024 - accuracy: 0.4048 - val_loss: 1.0773 - val_accuracy: 0.2500\n",
            "Epoch 28/100\n",
            "1/1 [==============================] - 0s 46ms/step - loss: 0.9897 - accuracy: 0.5000 - val_loss: 1.0672 - val_accuracy: 0.3889\n",
            "Epoch 29/100\n",
            "1/1 [==============================] - 0s 51ms/step - loss: 0.9754 - accuracy: 0.5595 - val_loss: 1.0535 - val_accuracy: 0.4444\n",
            "Epoch 30/100\n",
            "1/1 [==============================] - 0s 47ms/step - loss: 0.9589 - accuracy: 0.6667 - val_loss: 1.0364 - val_accuracy: 0.4722\n",
            "Epoch 31/100\n",
            "1/1 [==============================] - 0s 46ms/step - loss: 0.9398 - accuracy: 0.6786 - val_loss: 1.0163 - val_accuracy: 0.4722\n",
            "Epoch 32/100\n",
            "1/1 [==============================] - 0s 59ms/step - loss: 0.9180 - accuracy: 0.6905 - val_loss: 0.9932 - val_accuracy: 0.4722\n",
            "Epoch 33/100\n",
            "1/1 [==============================] - 0s 42ms/step - loss: 0.8936 - accuracy: 0.6905 - val_loss: 0.9668 - val_accuracy: 0.4722\n",
            "Epoch 34/100\n",
            "1/1 [==============================] - 0s 44ms/step - loss: 0.8666 - accuracy: 0.6905 - val_loss: 0.9371 - val_accuracy: 0.4722\n",
            "Epoch 35/100\n",
            "1/1 [==============================] - 0s 47ms/step - loss: 0.8376 - accuracy: 0.6905 - val_loss: 0.9052 - val_accuracy: 0.5000\n",
            "Epoch 36/100\n",
            "1/1 [==============================] - 0s 47ms/step - loss: 0.8066 - accuracy: 0.7024 - val_loss: 0.8726 - val_accuracy: 0.5000\n",
            "Epoch 37/100\n",
            "1/1 [==============================] - 0s 46ms/step - loss: 0.7740 - accuracy: 0.7143 - val_loss: 0.8405 - val_accuracy: 0.5000\n",
            "Epoch 38/100\n",
            "1/1 [==============================] - 0s 72ms/step - loss: 0.7402 - accuracy: 0.7143 - val_loss: 0.8091 - val_accuracy: 0.5000\n",
            "Epoch 39/100\n",
            "1/1 [==============================] - 0s 44ms/step - loss: 0.7057 - accuracy: 0.7143 - val_loss: 0.7778 - val_accuracy: 0.5278\n",
            "Epoch 40/100\n",
            "1/1 [==============================] - 0s 46ms/step - loss: 0.6713 - accuracy: 0.7143 - val_loss: 0.7466 - val_accuracy: 0.5556\n",
            "Epoch 41/100\n",
            "1/1 [==============================] - 0s 46ms/step - loss: 0.6375 - accuracy: 0.7500 - val_loss: 0.7165 - val_accuracy: 0.6111\n",
            "Epoch 42/100\n",
            "1/1 [==============================] - 0s 52ms/step - loss: 0.6052 - accuracy: 0.7738 - val_loss: 0.6887 - val_accuracy: 0.6944\n",
            "Epoch 43/100\n",
            "1/1 [==============================] - 0s 61ms/step - loss: 0.5749 - accuracy: 0.7738 - val_loss: 0.6633 - val_accuracy: 0.7778\n",
            "Epoch 44/100\n",
            "1/1 [==============================] - 0s 63ms/step - loss: 0.5471 - accuracy: 0.8095 - val_loss: 0.6398 - val_accuracy: 0.8056\n",
            "Epoch 45/100\n",
            "1/1 [==============================] - 0s 45ms/step - loss: 0.5220 - accuracy: 0.8214 - val_loss: 0.6179 - val_accuracy: 0.8333\n",
            "Epoch 46/100\n",
            "1/1 [==============================] - 0s 49ms/step - loss: 0.4996 - accuracy: 0.8571 - val_loss: 0.5978 - val_accuracy: 0.8333\n",
            "Epoch 47/100\n",
            "1/1 [==============================] - 0s 45ms/step - loss: 0.4797 - accuracy: 0.8810 - val_loss: 0.5797 - val_accuracy: 0.8889\n",
            "Epoch 48/100\n",
            "1/1 [==============================] - 0s 43ms/step - loss: 0.4622 - accuracy: 0.9048 - val_loss: 0.5637 - val_accuracy: 0.9167\n",
            "Epoch 49/100\n",
            "1/1 [==============================] - 0s 44ms/step - loss: 0.4466 - accuracy: 0.9167 - val_loss: 0.5492 - val_accuracy: 0.9167\n",
            "Epoch 50/100\n",
            "1/1 [==============================] - 0s 44ms/step - loss: 0.4327 - accuracy: 0.9167 - val_loss: 0.5358 - val_accuracy: 0.9167\n",
            "Epoch 51/100\n",
            "1/1 [==============================] - 0s 45ms/step - loss: 0.4200 - accuracy: 0.9167 - val_loss: 0.5231 - val_accuracy: 0.9167\n",
            "Epoch 52/100\n",
            "1/1 [==============================] - 0s 45ms/step - loss: 0.4083 - accuracy: 0.9167 - val_loss: 0.5107 - val_accuracy: 0.9167\n",
            "Epoch 53/100\n",
            "1/1 [==============================] - 0s 51ms/step - loss: 0.3972 - accuracy: 0.9286 - val_loss: 0.4984 - val_accuracy: 0.9722\n",
            "Epoch 54/100\n",
            "1/1 [==============================] - 0s 44ms/step - loss: 0.3866 - accuracy: 0.9405 - val_loss: 0.4861 - val_accuracy: 0.9722\n",
            "Epoch 55/100\n",
            "1/1 [==============================] - 0s 46ms/step - loss: 0.3763 - accuracy: 0.9405 - val_loss: 0.4736 - val_accuracy: 0.9444\n",
            "Epoch 56/100\n",
            "1/1 [==============================] - 0s 56ms/step - loss: 0.3662 - accuracy: 0.9405 - val_loss: 0.4607 - val_accuracy: 0.9444\n",
            "Epoch 57/100\n",
            "1/1 [==============================] - 0s 44ms/step - loss: 0.3561 - accuracy: 0.9524 - val_loss: 0.4473 - val_accuracy: 0.9167\n",
            "Epoch 58/100\n",
            "1/1 [==============================] - 0s 48ms/step - loss: 0.3461 - accuracy: 0.9405 - val_loss: 0.4335 - val_accuracy: 0.9444\n",
            "Epoch 59/100\n",
            "1/1 [==============================] - 0s 44ms/step - loss: 0.3361 - accuracy: 0.9286 - val_loss: 0.4196 - val_accuracy: 0.9444\n",
            "Epoch 60/100\n",
            "1/1 [==============================] - 0s 46ms/step - loss: 0.3262 - accuracy: 0.9405 - val_loss: 0.4054 - val_accuracy: 0.9444\n",
            "Epoch 61/100\n",
            "1/1 [==============================] - 0s 57ms/step - loss: 0.3162 - accuracy: 0.9524 - val_loss: 0.3909 - val_accuracy: 0.9444\n",
            "Epoch 62/100\n",
            "1/1 [==============================] - 0s 43ms/step - loss: 0.3064 - accuracy: 0.9524 - val_loss: 0.3764 - val_accuracy: 0.9444\n",
            "Epoch 63/100\n",
            "1/1 [==============================] - 0s 44ms/step - loss: 0.2966 - accuracy: 0.9524 - val_loss: 0.3620 - val_accuracy: 0.9444\n",
            "Epoch 64/100\n",
            "1/1 [==============================] - 0s 43ms/step - loss: 0.2870 - accuracy: 0.9643 - val_loss: 0.3478 - val_accuracy: 0.9444\n",
            "Epoch 65/100\n",
            "1/1 [==============================] - 0s 44ms/step - loss: 0.2776 - accuracy: 0.9643 - val_loss: 0.3337 - val_accuracy: 0.9444\n",
            "Epoch 66/100\n",
            "1/1 [==============================] - 0s 45ms/step - loss: 0.2683 - accuracy: 0.9643 - val_loss: 0.3200 - val_accuracy: 0.9444\n",
            "Epoch 67/100\n",
            "1/1 [==============================] - 0s 47ms/step - loss: 0.2592 - accuracy: 0.9643 - val_loss: 0.3068 - val_accuracy: 0.9444\n",
            "Epoch 68/100\n",
            "1/1 [==============================] - 0s 45ms/step - loss: 0.2503 - accuracy: 0.9643 - val_loss: 0.2941 - val_accuracy: 0.9444\n",
            "Epoch 69/100\n",
            "1/1 [==============================] - 0s 46ms/step - loss: 0.2416 - accuracy: 0.9643 - val_loss: 0.2820 - val_accuracy: 0.9444\n",
            "Epoch 70/100\n",
            "1/1 [==============================] - 0s 60ms/step - loss: 0.2330 - accuracy: 0.9643 - val_loss: 0.2706 - val_accuracy: 0.9444\n",
            "Epoch 71/100\n",
            "1/1 [==============================] - 0s 44ms/step - loss: 0.2247 - accuracy: 0.9643 - val_loss: 0.2598 - val_accuracy: 0.9722\n",
            "Epoch 72/100\n",
            "1/1 [==============================] - 0s 48ms/step - loss: 0.2166 - accuracy: 0.9643 - val_loss: 0.2497 - val_accuracy: 0.9722\n",
            "Epoch 73/100\n",
            "1/1 [==============================] - 0s 63ms/step - loss: 0.2087 - accuracy: 0.9643 - val_loss: 0.2402 - val_accuracy: 0.9722\n",
            "Epoch 74/100\n",
            "1/1 [==============================] - 0s 51ms/step - loss: 0.2011 - accuracy: 0.9643 - val_loss: 0.2312 - val_accuracy: 0.9722\n",
            "Epoch 75/100\n",
            "1/1 [==============================] - 0s 47ms/step - loss: 0.1936 - accuracy: 0.9643 - val_loss: 0.2228 - val_accuracy: 0.9722\n",
            "Epoch 76/100\n",
            "1/1 [==============================] - 0s 45ms/step - loss: 0.1864 - accuracy: 0.9643 - val_loss: 0.2147 - val_accuracy: 0.9722\n",
            "Epoch 77/100\n",
            "1/1 [==============================] - 0s 62ms/step - loss: 0.1794 - accuracy: 0.9643 - val_loss: 0.2071 - val_accuracy: 0.9722\n",
            "Epoch 78/100\n",
            "1/1 [==============================] - 0s 45ms/step - loss: 0.1725 - accuracy: 0.9643 - val_loss: 0.1999 - val_accuracy: 0.9722\n",
            "Epoch 79/100\n",
            "1/1 [==============================] - 0s 46ms/step - loss: 0.1660 - accuracy: 0.9643 - val_loss: 0.1930 - val_accuracy: 0.9722\n",
            "Epoch 80/100\n",
            "1/1 [==============================] - 0s 58ms/step - loss: 0.1596 - accuracy: 0.9643 - val_loss: 0.1866 - val_accuracy: 0.9722\n",
            "Epoch 81/100\n",
            "1/1 [==============================] - 0s 46ms/step - loss: 0.1535 - accuracy: 0.9643 - val_loss: 0.1805 - val_accuracy: 0.9722\n",
            "Epoch 82/100\n",
            "1/1 [==============================] - 0s 46ms/step - loss: 0.1477 - accuracy: 0.9643 - val_loss: 0.1750 - val_accuracy: 0.9722\n",
            "Epoch 83/100\n",
            "1/1 [==============================] - 0s 48ms/step - loss: 0.1421 - accuracy: 0.9643 - val_loss: 0.1697 - val_accuracy: 0.9722\n",
            "Epoch 84/100\n",
            "1/1 [==============================] - 0s 46ms/step - loss: 0.1367 - accuracy: 0.9643 - val_loss: 0.1650 - val_accuracy: 0.9722\n",
            "Epoch 85/100\n",
            "1/1 [==============================] - 0s 48ms/step - loss: 0.1316 - accuracy: 0.9643 - val_loss: 0.1605 - val_accuracy: 0.9722\n",
            "Epoch 86/100\n",
            "1/1 [==============================] - 0s 48ms/step - loss: 0.1267 - accuracy: 0.9643 - val_loss: 0.1564 - val_accuracy: 0.9722\n",
            "Epoch 87/100\n",
            "1/1 [==============================] - 0s 46ms/step - loss: 0.1220 - accuracy: 0.9643 - val_loss: 0.1525 - val_accuracy: 0.9722\n",
            "Epoch 88/100\n",
            "1/1 [==============================] - 0s 62ms/step - loss: 0.1176 - accuracy: 0.9643 - val_loss: 0.1491 - val_accuracy: 0.9722\n",
            "Epoch 89/100\n",
            "1/1 [==============================] - 0s 43ms/step - loss: 0.1134 - accuracy: 0.9643 - val_loss: 0.1459 - val_accuracy: 0.9722\n",
            "Epoch 90/100\n",
            "1/1 [==============================] - 0s 53ms/step - loss: 0.1096 - accuracy: 0.9762 - val_loss: 0.1427 - val_accuracy: 0.9722\n",
            "Epoch 91/100\n",
            "1/1 [==============================] - 0s 47ms/step - loss: 0.1061 - accuracy: 0.9762 - val_loss: 0.1411 - val_accuracy: 0.9722\n",
            "Epoch 92/100\n",
            "1/1 [==============================] - 0s 64ms/step - loss: 0.1032 - accuracy: 0.9762 - val_loss: 0.1369 - val_accuracy: 0.9722\n",
            "Epoch 93/100\n",
            "1/1 [==============================] - 0s 43ms/step - loss: 0.0999 - accuracy: 0.9762 - val_loss: 0.1347 - val_accuracy: 0.9722\n",
            "Epoch 94/100\n",
            "1/1 [==============================] - 0s 45ms/step - loss: 0.0963 - accuracy: 0.9762 - val_loss: 0.1319 - val_accuracy: 0.9722\n",
            "Epoch 95/100\n",
            "1/1 [==============================] - 0s 44ms/step - loss: 0.0932 - accuracy: 0.9762 - val_loss: 0.1290 - val_accuracy: 0.9722\n",
            "Epoch 96/100\n",
            "1/1 [==============================] - 0s 49ms/step - loss: 0.0911 - accuracy: 0.9762 - val_loss: 0.1288 - val_accuracy: 0.9722\n",
            "Epoch 97/100\n",
            "1/1 [==============================] - 0s 52ms/step - loss: 0.0885 - accuracy: 0.9762 - val_loss: 0.1254 - val_accuracy: 0.9722\n",
            "Epoch 98/100\n",
            "1/1 [==============================] - 0s 44ms/step - loss: 0.0856 - accuracy: 0.9762 - val_loss: 0.1232 - val_accuracy: 0.9722\n",
            "Epoch 99/100\n",
            "1/1 [==============================] - 0s 56ms/step - loss: 0.0837 - accuracy: 0.9762 - val_loss: 0.1240 - val_accuracy: 0.9722\n",
            "Epoch 100/100\n",
            "1/1 [==============================] - 0s 45ms/step - loss: 0.0817 - accuracy: 0.9762 - val_loss: 0.1207 - val_accuracy: 0.9722\n"
          ]
        }
      ]
    },
    {
      "cell_type": "code",
      "source": [
        "plt.plot(hist.history['loss'])\n",
        "plt.plot(hist.history['val_loss'])\n",
        "plt.title('model loss')\n",
        "plt.xlabel('Epochs')\n",
        "plt.ylabel('Loss')\n",
        "plt.legend(['train', 'val'], loc='upper right')\n",
        "plt.show()"
      ],
      "metadata": {
        "colab": {
          "base_uri": "https://localhost:8080/",
          "height": 472
        },
        "id": "nO_ywYybWFiJ",
        "outputId": "dfcba79a-a260-44f5-f493-2d34b69a4233"
      },
      "execution_count": null,
      "outputs": [
        {
          "output_type": "display_data",
          "data": {
            "text/plain": [
              "<Figure size 640x480 with 1 Axes>"
            ],
            "image/png": "[encoded data removed]"
          },
          "metadata": {}
        }
      ]
    },
    {
      "cell_type": "code",
      "source": [
        "results = model.evaluate(X_test, y_test, verbose=0 )\n",
        "print('test loss, test acc:', results)"
      ],
      "metadata": {
        "colab": {
          "base_uri": "https://localhost:8080/"
        },
        "id": "0334fC-fWZay",
        "outputId": "2b260e7e-cf2c-4ec3-a7ed-b65d8a1ffc1e"
      },
      "execution_count": null,
      "outputs": [
        {
          "output_type": "stream",
          "name": "stdout",
          "text": [
            "test loss, test acc: [0.09453069418668747, 1.0]\n"
          ]
        }
      ]
    }
  ]
}